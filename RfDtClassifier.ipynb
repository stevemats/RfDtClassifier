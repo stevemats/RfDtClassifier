{
 "cells": [
  {
   "cell_type": "code",
   "execution_count": null,
   "id": "b772d73f",
   "metadata": {},
   "outputs": [],
   "source": [
    "import pandas as pd\n",
    "from sklearn.model_selection import train_test_split\n",
    "from sklearn.ensemble import RandomForestRegressor\n",
    "from sklearn.tree import DecisionTreeRegressor\n",
    "from sklearn.metrics import mean_squared_error, mean_absolute_error\n",
    "import numpy as np\n",
    "import matplotlib.pyplot as plt"
   ]
  },
  {
   "cell_type": "code",
   "execution_count": null,
   "id": "590193c7",
   "metadata": {},
   "outputs": [],
   "source": [
    "# Load the dataset\n",
    "data = pd.read_csv(\"./Dataset/Real estate.csv\")\n",
    "print(data.columns)"
   ]
  },
  {
   "cell_type": "code",
   "execution_count": null,
   "id": "a7dbce14",
   "metadata": {},
   "outputs": [],
   "source": [
    "# Splitting features and target variable\n",
    "X = data.drop(columns=['No', 'Y house price of unit area'])\n",
    "Y = data['Y house price of unit area']"
   ]
  },
  {
   "cell_type": "code",
   "execution_count": null,
   "id": "13e06cdb",
   "metadata": {},
   "outputs": [],
   "source": [
    "# Split the data into training and testing sets\n",
    "X_train, X_test, Y_train, Y_test = train_test_split(X, Y, test_size=0.2, random_state=42)"
   ]
  },
  {
   "cell_type": "code",
   "execution_count": null,
   "id": "aa56cc96",
   "metadata": {},
   "outputs": [],
   "source": [
    "# Train Random Forest model\n",
    "rf_model = RandomForestRegressor(random_state=42)\n",
    "rf_model.fit(X_train, Y_train)"
   ]
  },
  {
   "cell_type": "code",
   "execution_count": null,
   "id": "def94846",
   "metadata": {},
   "outputs": [],
   "source": [
    "# Train Decision Tree model\n",
    "dt_model = DecisionTreeRegressor(random_state=42)\n",
    "dt_model.fit(X_train, Y_train)"
   ]
  },
  {
   "cell_type": "code",
   "execution_count": null,
   "id": "efcfa152",
   "metadata": {},
   "outputs": [],
   "source": [
    "# Function to calculate RMSE\n",
    "def rmse(y_true, y_pred):\n",
    "    return np.sqrt(mean_squared_error(y_true, y_pred))"
   ]
  },
  {
   "cell_type": "code",
   "execution_count": null,
   "id": "27c0bc74",
   "metadata": {},
   "outputs": [],
   "source": [
    "# Evaluate Random Forest model\n",
    "rf_pred = rf_model.predict(X_test)\n",
    "rf_mse = mean_squared_error(Y_test, rf_pred)\n",
    "rf_mae = mean_absolute_error(Y_test, rf_pred)\n",
    "rf_rmse = rmse(Y_test, rf_pred)"
   ]
  },
  {
   "cell_type": "code",
   "execution_count": null,
   "id": "a95d7d90",
   "metadata": {},
   "outputs": [],
   "source": [
    "# Evaluate Decision Tree model\n",
    "dt_pred = dt_model.predict(X_test)\n",
    "dt_mse = mean_squared_error(Y_test, dt_pred)\n",
    "dt_mae = mean_absolute_error(Y_test, dt_pred)\n",
    "dt_rmse = rmse(Y_test, dt_pred)"
   ]
  },
  {
   "cell_type": "code",
   "execution_count": null,
   "id": "0484b22c",
   "metadata": {},
   "outputs": [],
   "source": [
    "# Visualize predicted vs actual house prices for Random Forest\n",
    "plt.figure(figsize=(10, 6))\n",
    "plt.scatter(Y_test, rf_pred, color='blue', label='Random Forest', alpha=0.5)\n",
    "plt.plot([min(Y_test), max(Y_test)], [min(Y_test), max(Y_test)], color='red', linestyle='--')\n",
    "plt.xlabel(\"Actual House Prices\")\n",
    "plt.ylabel(\"Predicted House Prices\")\n",
    "plt.title(\"Random Forest: Actual vs Predicted House Prices\")\n",
    "plt.legend()\n",
    "plt.grid(True)\n",
    "plt.show()"
   ]
  },
  {
   "cell_type": "code",
   "execution_count": null,
   "id": "288a4830",
   "metadata": {},
   "outputs": [],
   "source": [
    "# Visualize predicted vs actual house prices for Decision Tree\n",
    "plt.figure(figsize=(10, 6))\n",
    "plt.scatter(Y_test, dt_pred, color='green', label='Decision Tree', alpha=0.5)\n",
    "plt.plot([min(Y_test), max(Y_test)], [min(Y_test), max(Y_test)], color='red', linestyle='--')\n",
    "plt.xlabel(\"Actual House Prices\")\n",
    "plt.ylabel(\"Predicted House Prices\")\n",
    "plt.title(\"Decision Tree: Actual vs Predicted House Prices\")\n",
    "plt.legend()\n",
    "plt.grid(True)\n",
    "plt.show()"
   ]
  },
  {
   "cell_type": "code",
   "execution_count": null,
   "id": "e190e704",
   "metadata": {},
   "outputs": [],
   "source": [
    "# Compare the performance of Random Forest and Decision Tree models\n",
    "print(\"\\nModel Comparison:\")\n",
    "print(\"Random Forest - Mean Squared Error:\", rf_mse)\n",
    "print(\"Decision Tree - Mean Squared Error:\", dt_mse)\n",
    "\n",
    "if rf_mse < dt_mse:\n",
    "    print(\"\\nRandom Forest performs better in terms of Mean Squared Error. It is preferred for analyzing the data.\")\n",
    "elif rf_mse > dt_mse:\n",
    "    print(\"\\nDecision Tree performs better in terms of Mean Squared Error. It is preferred for analyzing the data.\")\n",
    "else:\n",
    "    print(\"\\nBoth models have similar performance in terms of Mean Squared Error.\")"
   ]
  },
  {
   "cell_type": "code",
   "execution_count": null,
   "id": "c7dc19d8",
   "metadata": {},
   "outputs": [],
   "source": []
  }
 ],
 "metadata": {
  "kernelspec": {
   "display_name": "Python 3",
   "language": "python",
   "name": "python3"
  },
  "language_info": {
   "codemirror_mode": {
    "name": "ipython",
    "version": 3
   },
   "file_extension": ".py",
   "mimetype": "text/x-python",
   "name": "python",
   "nbconvert_exporter": "python",
   "pygments_lexer": "ipython3",
   "version": "3.8.8"
  }
 },
 "nbformat": 4,
 "nbformat_minor": 5
}
